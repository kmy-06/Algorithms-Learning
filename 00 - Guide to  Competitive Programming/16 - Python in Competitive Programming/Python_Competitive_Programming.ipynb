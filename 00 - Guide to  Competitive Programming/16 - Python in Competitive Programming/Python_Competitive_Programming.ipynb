{
  "nbformat": 4,
  "nbformat_minor": 0,
  "metadata": {
    "colab": {
      "provenance": []
    },
    "kernelspec": {
      "name": "python3",
      "display_name": "Python 3"
    },
    "language_info": {
      "name": "python"
    }
  },
  "cells": [
    {
      "cell_type": "markdown",
      "source": [
        "# 1 - Introduction"
      ],
      "metadata": {
        "id": "wtXfj7ZJUyRe"
      }
    },
    {
      "cell_type": "markdown",
      "source": [
        "> When solving problems in C++, we had to carefully select the type of the variable $n$ so that it is large enough to hold all intermediate vaues during the calculation.\n",
        "\n",
        "> In Python, we do not have to think about this because built-in Python integers can contain arbitarily large values <br> (can store much larger values).\n",
        "\n",
        "> Other than that, there are no big differences when implementing the solution in C++ and Python."
      ],
      "metadata": {
        "id": "MdSW8SP3U4K1"
      }
    },
    {
      "cell_type": "markdown",
      "source": [
        "### 1.1 - Input and Output"
      ],
      "metadata": {
        "id": "8pSYFAyfr9Ms"
      }
    },
    {
      "cell_type": "code",
      "execution_count": 12,
      "metadata": {
        "id": "VAQfY_37UUwg",
        "colab": {
          "base_uri": "https://localhost:8080/"
        },
        "outputId": "9f24ae02-71c8-4b53-bdb5-c751ca278614"
      },
      "outputs": [
        {
          "output_type": "stream",
          "name": "stdout",
          "text": [
            "n: 123\n",
            "s: Moyu\n",
            "123\n",
            "Moyu\n"
          ]
        }
      ],
      "source": [
        "n = int(input(\"n: \")) # input convert to integer\n",
        "s = input(\"s: \") # input return as a string\n",
        "\n",
        "print(n)\n",
        "print(s)"
      ]
    },
    {
      "cell_type": "code",
      "source": [
        "t = input(\"t: \").split() # if input values are separated by spaces, 'split' function can convert them into a list of strings.\n",
        "\n",
        "print(t)"
      ],
      "metadata": {
        "colab": {
          "base_uri": "https://localhost:8080/"
        },
        "id": "b-6Vc9D8fzaI",
        "outputId": "7ef9415c-dc55-4139-c851-3fb801d1f101"
      },
      "execution_count": 13,
      "outputs": [
        {
          "output_type": "stream",
          "name": "stdout",
          "text": [
            "t: 1 2 3\n",
            "['1', '2', '3']\n"
          ]
        }
      ]
    },
    {
      "cell_type": "code",
      "source": [
        "t = [int(x) for x in input(\"t: \").split()] # list comprehension, convert input numbers to a list of integers\n",
        "\n",
        "print(t)"
      ],
      "metadata": {
        "colab": {
          "base_uri": "https://localhost:8080/"
        },
        "id": "iQJ4LERuiL6t",
        "outputId": "2f29ede4-30df-4c76-a48d-7b165491f206"
      },
      "execution_count": 14,
      "outputs": [
        {
          "output_type": "stream",
          "name": "stdout",
          "text": [
            "t: 1 2 3\n",
            "[1, 2, 3]\n"
          ]
        }
      ]
    },
    {
      "cell_type": "code",
      "source": [
        "t = list(map(int, input(\"t: \").split())) # list and map function for integer conversion to create a list from a map object.\n",
        "\n",
        "print(t)"
      ],
      "metadata": {
        "colab": {
          "base_uri": "https://localhost:8080/"
        },
        "id": "Tg9VzOlkiom_",
        "outputId": "f6e03c68-5b73-4173-df5d-4be2648940d3"
      },
      "execution_count": 20,
      "outputs": [
        {
          "output_type": "stream",
          "name": "stdout",
          "text": [
            "t: 1 2 3\n",
            "[1, 2, 3]\n"
          ]
        }
      ]
    },
    {
      "cell_type": "code",
      "source": [
        "a = 1\n",
        "b = 2\n",
        "c = 3\n",
        "\n",
        "# Horizontal Output\n",
        "print(a, b, c)\n",
        "\n",
        "print(a, end = \" \")\n",
        "print(b, end = \" \")\n",
        "print(c)\n",
        "\n",
        "# Vertical Output\n",
        "print(a, b, c, sep = \"\\n\")\n",
        "\n",
        "print(a)\n",
        "print(b)\n",
        "print(c)\n"
      ],
      "metadata": {
        "colab": {
          "base_uri": "https://localhost:8080/"
        },
        "id": "Bz4Ycj1Gi-9i",
        "outputId": "d713f1b9-65fe-452e-94e6-0919edf62ca7"
      },
      "execution_count": 25,
      "outputs": [
        {
          "output_type": "stream",
          "name": "stdout",
          "text": [
            "1 2 3\n",
            "1 2 3\n",
            "1\n",
            "2\n",
            "3\n",
            "1\n",
            "2\n",
            "3\n"
          ]
        }
      ]
    },
    {
      "cell_type": "markdown",
      "source": [
        "### 1.2 - Working with Numbers"
      ],
      "metadata": {
        "id": "rB0ML2Vsko--"
      }
    },
    {
      "cell_type": "code",
      "source": [
        "print(1337 ** 13) # built-in integers can contain arbitrarily large values."
      ],
      "metadata": {
        "colab": {
          "base_uri": "https://localhost:8080/"
        },
        "id": "sy3173mxknQS",
        "outputId": "15649cba-7d2a-4ca9-d3c4-4219c7f1f679"
      },
      "execution_count": 26,
      "outputs": [
        {
          "output_type": "stream",
          "name": "stdout",
          "text": [
            "43622273306113847375878664912656177214297\n"
          ]
        }
      ]
    },
    {
      "cell_type": "markdown",
      "source": [
        "> Note: `sys.set_int_max_str_digits` function can be used to increase the integer's digits limit."
      ],
      "metadata": {
        "id": "AKbfbCrYnY4E"
      }
    },
    {
      "cell_type": "code",
      "source": [
        "import sys\n",
        "\n",
        "# Set a limit for integer string conversion, not for string\n",
        "sys.set_int_max_str_digits(1000) # max 1000 digits\n",
        "\n",
        "try:\n",
        "    large_number = int(\"9\" * 2000)\n",
        "    print(large_number)\n",
        "except ValueError as e:\n",
        "    print(\"Error:\", e)  # limit exceeded\n",
        "\n",
        "\n",
        "n = int(\"9\" * 1000)\n",
        "\n",
        "print(\"\\n\" + str(n))\n",
        "\n",
        "# n = int(\"9\" * 1001) # limit exceeded"
      ],
      "metadata": {
        "colab": {
          "base_uri": "https://localhost:8080/"
        },
        "id": "27WuYV4JoAj7",
        "outputId": "52a19e1f-5950-4709-90bc-52f413ba4cfa"
      },
      "execution_count": 52,
      "outputs": [
        {
          "output_type": "stream",
          "name": "stdout",
          "text": [
            "Error: Exceeds the limit (1000 digits) for integer string conversion: value has 2000 digits; use sys.set_int_max_str_digits() to increase the limit\n",
            "\n",
            "9999999999999999999999999999999999999999999999999999999999999999999999999999999999999999999999999999999999999999999999999999999999999999999999999999999999999999999999999999999999999999999999999999999999999999999999999999999999999999999999999999999999999999999999999999999999999999999999999999999999999999999999999999999999999999999999999999999999999999999999999999999999999999999999999999999999999999999999999999999999999999999999999999999999999999999999999999999999999999999999999999999999999999999999999999999999999999999999999999999999999999999999999999999999999999999999999999999999999999999999999999999999999999999999999999999999999999999999999999999999999999999999999999999999999999999999999999999999999999999999999999999999999999999999999999999999999999999999999999999999999999999999999999999999999999999999999999999999999999999999999999999999999999999999999999999999999999999999999999999999999999999999999999999999999999999999999999999999999999999999999999999999999999999999999999999999999999\n"
          ]
        }
      ]
    },
    {
      "cell_type": "code",
      "source": [
        "print(3 / 2) # output a floating point number\n",
        "print(3 // 2) # integer division"
      ],
      "metadata": {
        "colab": {
          "base_uri": "https://localhost:8080/"
        },
        "id": "Mh5JsdJgk3ae",
        "outputId": "b7ae2cd5-3684-4b2c-b9c0-4c070128a290"
      },
      "execution_count": 27,
      "outputs": [
        {
          "output_type": "stream",
          "name": "stdout",
          "text": [
            "1.5\n",
            "1\n"
          ]
        }
      ]
    },
    {
      "cell_type": "code",
      "source": [
        "print(pow(999, 10 ** 6, 123)) # a^b mod c -> 999^10^6 mod 123"
      ],
      "metadata": {
        "colab": {
          "base_uri": "https://localhost:8080/"
        },
        "id": "uoIn8qnlla-Y",
        "outputId": "9669e542-93c7-42b1-8320-9487bf0a31d0"
      },
      "execution_count": 28,
      "outputs": [
        {
          "output_type": "stream",
          "name": "stdout",
          "text": [
            "42\n"
          ]
        }
      ]
    },
    {
      "cell_type": "code",
      "source": [
        "import math # import module\n",
        "\n",
        "print(math.gcd(8, 12, 6)) # highest common divisor (of a list of numbers)\n",
        "print(math.lcm(8, 12, 6)) # lowest common multiple\n",
        "\n",
        "print(math.factorial(5)) # factorial of a number\n",
        "print(math.comb(5, 2)) # binomial coefficients\n",
        "print(math.perm(5, 2)) # number of permutations"
      ],
      "metadata": {
        "colab": {
          "base_uri": "https://localhost:8080/"
        },
        "id": "A94Cbs7Wl2PE",
        "outputId": "ce084fdc-a58f-4961-9a3c-163bd4ffd55e"
      },
      "execution_count": 29,
      "outputs": [
        {
          "output_type": "stream",
          "name": "stdout",
          "text": [
            "2\n",
            "24\n",
            "120\n",
            "10\n",
            "20\n"
          ]
        }
      ]
    },
    {
      "cell_type": "code",
      "source": [
        "from fractions import Fraction # provide exact calculations with fractions\n",
        "\n",
        "a = Fraction(1, 2)\n",
        "b = Fraction(5, 7)\n",
        "\n",
        "print(a)\n",
        "print(b)\n",
        "print(float(a))\n",
        "print(float(b))"
      ],
      "metadata": {
        "colab": {
          "base_uri": "https://localhost:8080/"
        },
        "id": "kzRWbYQnqRn-",
        "outputId": "e0dd1557-a6b2-49b6-93f3-f003a43e2b9f"
      },
      "execution_count": 55,
      "outputs": [
        {
          "output_type": "stream",
          "name": "stdout",
          "text": [
            "1/2\n",
            "5/7\n",
            "0.5\n",
            "0.7142857142857143\n"
          ]
        }
      ]
    },
    {
      "cell_type": "code",
      "source": [
        "print(Fraction(3, 6)) # default shows the reduced form of fraction"
      ],
      "metadata": {
        "colab": {
          "base_uri": "https://localhost:8080/"
        },
        "id": "Na5cMBTKqmbw",
        "outputId": "3e4180e9-3089-4647-f9d0-d6bd00c7fea7"
      },
      "execution_count": 57,
      "outputs": [
        {
          "output_type": "stream",
          "name": "stdout",
          "text": [
            "1/2\n"
          ]
        }
      ]
    },
    {
      "cell_type": "code",
      "source": [
        "a = Fraction(1, 2) # 1/2, 0.5\n",
        "b = Fraction(5, 7) # 5/7, 0.7142857142857143\n",
        "\n",
        "print(a + b)\n",
        "print(a - b)\n",
        "print(a * b)\n",
        "print(a / b)\n",
        "print(a < b)\n",
        "print(a > b)"
      ],
      "metadata": {
        "colab": {
          "base_uri": "https://localhost:8080/"
        },
        "id": "pYR_Ix8uq8mb",
        "outputId": "6af95613-728f-4e0e-c1c1-0771076c2f98"
      },
      "execution_count": 61,
      "outputs": [
        {
          "output_type": "stream",
          "name": "stdout",
          "text": [
            "17/14\n",
            "-3/14\n",
            "5/14\n",
            "7/10\n",
            "True\n",
            "False\n"
          ]
        }
      ]
    },
    {
      "cell_type": "markdown",
      "source": [
        "### 1.3 - Generating Combinations"
      ],
      "metadata": {
        "id": "UhvafSjZrxg3"
      }
    },
    {
      "cell_type": "code",
      "source": [
        "import itertools\n",
        "\n",
        "s = [1, 2, 3]\n",
        "k = 2\n",
        "\n",
        "print(list(itertools.permutations(s))) # return all permutations (排列)\n",
        "print(list(itertools.combinations(s, k))) # return all subsequences of the input sequence that have k elements, unique combinations only\n",
        "print(list(itertools.product(s, repeat = k))) # return all sequences of length k, in any order, every element is from the input sequence\n",
        "print(list(itertools.combinations_with_replacement(s, k))) # return all sequence of length k, order of elements is the same as in the input sequence, no reversing"
      ],
      "metadata": {
        "colab": {
          "base_uri": "https://localhost:8080/"
        },
        "id": "ww4W0Bjdrcwr",
        "outputId": "574853f8-c919-4d6d-d340-40d52a9f3295"
      },
      "execution_count": 62,
      "outputs": [
        {
          "output_type": "stream",
          "name": "stdout",
          "text": [
            "[(1, 2, 3), (1, 3, 2), (2, 1, 3), (2, 3, 1), (3, 1, 2), (3, 2, 1)]\n",
            "[(1, 2), (1, 3), (2, 3)]\n",
            "[(1, 1), (1, 2), (1, 3), (2, 1), (2, 2), (2, 3), (3, 1), (3, 2), (3, 3)]\n",
            "[(1, 1), (1, 2), (1, 3), (2, 2), (2, 3), (3, 3)]\n"
          ]
        }
      ]
    },
    {
      "cell_type": "markdown",
      "source": [
        "# 2 - Data Structures"
      ],
      "metadata": {
        "id": "FCFGnbcDv-Qi"
      }
    },
    {
      "cell_type": "markdown",
      "source": [
        "> One difference between Python and C++ is that in Python, the syntax a = b only copies the reference to the data structure and does not copy the contents of the data structure like C++."
      ],
      "metadata": {
        "id": "ZlZ3QFGKwFPl"
      }
    },
    {
      "cell_type": "code",
      "source": [
        "a = [1, 2, 3]\n",
        "b = a # variables a and b point to the same list and when an element is added through a, it also be visible though b.\n",
        "b.append(4)\n",
        "\n",
        "print(a)\n",
        "print(b)"
      ],
      "metadata": {
        "colab": {
          "base_uri": "https://localhost:8080/"
        },
        "id": "5N2k5A42cNJ9",
        "outputId": "6b35a1e0-68d9-407e-fae2-e78e506b796b"
      },
      "execution_count": 1,
      "outputs": [
        {
          "output_type": "stream",
          "name": "stdout",
          "text": [
            "[1, 2, 3, 4]\n",
            "[1, 2, 3, 4]\n"
          ]
        }
      ]
    },
    {
      "cell_type": "code",
      "source": [
        "def test(x):\n",
        "    x.append(4) # adds new element\n",
        "\n",
        "a = [1, 2, 3]\n",
        "test(a) # function calls\n",
        "\n",
        "print(a)"
      ],
      "metadata": {
        "colab": {
          "base_uri": "https://localhost:8080/"
        },
        "id": "fMXRObqhcX6U",
        "outputId": "1c420a77-bb15-4fe3-8aae-a0d2f4f593cd"
      },
      "execution_count": 3,
      "outputs": [
        {
          "output_type": "stream",
          "name": "stdout",
          "text": [
            "[1, 2, 3, 4]\n"
          ]
        }
      ]
    },
    {
      "cell_type": "markdown",
      "source": [
        "> Another difference is that Python has two types of data structures: mutable and immutable data structures.\n",
        "\n",
        "> Mutable data structures can be modified using methods and operators but immutable data structures cannot be modified."
      ],
      "metadata": {
        "id": "D7atljeddnjJ"
      }
    },
    {
      "cell_type": "code",
      "source": [
        "x = [1, 2, 3]\n",
        "x[1] = 5\n",
        "\n",
        "print(x)"
      ],
      "metadata": {
        "colab": {
          "base_uri": "https://localhost:8080/"
        },
        "id": "drsKG5ACe3g9",
        "outputId": "f846fd57-8778-4ac2-eed1-acc9c13a7ba7"
      },
      "execution_count": 4,
      "outputs": [
        {
          "output_type": "stream",
          "name": "stdout",
          "text": [
            "[1, 5, 3]\n"
          ]
        }
      ]
    },
    {
      "cell_type": "code",
      "source": [
        "x = \"abc\"\n",
        "x[1] = \"e\" # TypeError\n",
        "print(x)"
      ],
      "metadata": {
        "id": "4cUjmG5XfKy3"
      },
      "execution_count": null,
      "outputs": []
    },
    {
      "cell_type": "markdown",
      "source": [
        "### 2.1 - List Structures"
      ],
      "metadata": {
        "id": "18q1uKElwHbS"
      }
    },
    {
      "cell_type": "code",
      "source": [
        "t = [1, 2, 3]\n",
        "\n",
        "print(t)"
      ],
      "metadata": {
        "colab": {
          "base_uri": "https://localhost:8080/"
        },
        "id": "_fI6eirBv8ZU",
        "outputId": "1ff0cf81-1238-4e60-d65d-6d81f9a6191e"
      },
      "execution_count": 6,
      "outputs": [
        {
          "output_type": "stream",
          "name": "stdout",
          "text": [
            "[1, 2, 3]\n"
          ]
        }
      ]
    },
    {
      "cell_type": "code",
      "source": [
        "t = []\n",
        "\n",
        "t.append(1)\n",
        "t.append(2)\n",
        "t.append(3)\n",
        "\n",
        "print(t)"
      ],
      "metadata": {
        "colab": {
          "base_uri": "https://localhost:8080/"
        },
        "id": "Zv7CKJ9qflzw",
        "outputId": "c224a480-5eef-4a50-c89f-369cd77d857b"
      },
      "execution_count": 7,
      "outputs": [
        {
          "output_type": "stream",
          "name": "stdout",
          "text": [
            "[1, 2, 3]\n"
          ]
        }
      ]
    },
    {
      "cell_type": "code",
      "source": [
        "t = [1, 2, 3]\n",
        "\n",
        "print(t.pop())\n",
        "print(t)"
      ],
      "metadata": {
        "colab": {
          "base_uri": "https://localhost:8080/"
        },
        "id": "omCxUnryfpRU",
        "outputId": "b10c7186-2495-4b94-8414-e9c0e7940a75"
      },
      "execution_count": 8,
      "outputs": [
        {
          "output_type": "stream",
          "name": "stdout",
          "text": [
            "3\n",
            "[1, 2]\n"
          ]
        }
      ]
    },
    {
      "cell_type": "code",
      "source": [
        "t = [1, 2, 3]\n",
        "\n",
        "print(t[1])\n",
        "\n",
        "t[1] = 5\n",
        "\n",
        "print(t[1])"
      ],
      "metadata": {
        "colab": {
          "base_uri": "https://localhost:8080/"
        },
        "id": "qpFQ1dDsfze5",
        "outputId": "b0c6011b-46c1-4097-847a-ab36dffad29d"
      },
      "execution_count": 9,
      "outputs": [
        {
          "output_type": "stream",
          "name": "stdout",
          "text": [
            "2\n",
            "5\n"
          ]
        }
      ]
    },
    {
      "cell_type": "code",
      "source": [
        "t = [3, 2, 1] # first way to sort a list\n",
        "\n",
        "t.sort()\n",
        "\n",
        "print(t)"
      ],
      "metadata": {
        "colab": {
          "base_uri": "https://localhost:8080/"
        },
        "id": "oyR6HgZ_f-IQ",
        "outputId": "2d3a0623-6004-4d89-d274-744c1e116e49"
      },
      "execution_count": 10,
      "outputs": [
        {
          "output_type": "stream",
          "name": "stdout",
          "text": [
            "[1, 2, 3]\n"
          ]
        }
      ]
    },
    {
      "cell_type": "code",
      "source": [
        "t = [3, 2, 1] # second way to sort a list\n",
        "\n",
        "print(sorted(t)) # no modification to original list\n",
        "\n",
        "print(t)"
      ],
      "metadata": {
        "colab": {
          "base_uri": "https://localhost:8080/"
        },
        "id": "IgaRMcSegGL2",
        "outputId": "118656bc-60e2-475a-ceea-c4c3d0a580d3"
      },
      "execution_count": 11,
      "outputs": [
        {
          "output_type": "stream",
          "name": "stdout",
          "text": [
            "[1, 2, 3]\n",
            "[3, 2, 1]\n"
          ]
        }
      ]
    },
    {
      "cell_type": "code",
      "source": [
        "from collections import deque # deque -> double-ended queue: fast appends/removals of elements in the list\n",
        "\n",
        "d = deque()\n",
        "d.append(1)\n",
        "d.append(2)\n",
        "d.appendleft(3)\n",
        "\n",
        "print(d)\n",
        "\n",
        "print(list(d)) # convert deque to list\n",
        "\n",
        "print(*d) # unpacking deque list\n",
        "\n",
        "d.pop()\n",
        "\n",
        "print(d)\n",
        "\n",
        "d.popleft()\n",
        "\n",
        "print(d)"
      ],
      "metadata": {
        "colab": {
          "base_uri": "https://localhost:8080/"
        },
        "id": "xnmqE9K6gY5r",
        "outputId": "febf840a-415c-41ba-bcfe-5027ca1b632f"
      },
      "execution_count": 13,
      "outputs": [
        {
          "output_type": "stream",
          "name": "stdout",
          "text": [
            "deque([3, 1, 2])\n",
            "[3, 1, 2]\n",
            "3 1 2\n",
            "deque([3, 1])\n",
            "deque([1])\n"
          ]
        }
      ]
    },
    {
      "cell_type": "markdown",
      "source": [
        "> In Python, deques are implemented as linked lists and it is not possible to efficiently access their elements using the [ ] syntax. This differs from C++ where deques are implemented as dynamic arrays."
      ],
      "metadata": {
        "id": "RDPczYeIiC83"
      }
    },
    {
      "cell_type": "markdown",
      "source": [
        "### 2.2 - Hash Structures"
      ],
      "metadata": {
        "id": "WUHrqvHejbqN"
      }
    },
    {
      "cell_type": "markdown",
      "source": [
        "> Python has two useful data structures that are based on hash tables:\n",
        "\n",
        "> a set and a dictionary\n",
        "\n",
        "> They correspond to the C++ unordered_set and unordered_map data structures."
      ],
      "metadata": {
        "id": "7I6AQlHujgjQ"
      }
    },
    {
      "cell_type": "markdown",
      "source": [],
      "metadata": {
        "id": "gUihut9zjZGm"
      }
    },
    {
      "cell_type": "code",
      "source": [
        "s = set() # efficient methods for element insertion and removal\n",
        "\n",
        "s.add(3)\n",
        "s.add(1)\n",
        "s.add(2)\n",
        "\n",
        "print(s) # should not relie upon the arbitrary order of the output, for hash-based storage only\n",
        "\n",
        "print(2 in s)\n",
        "\n",
        "s.remove(2)\n",
        "\n",
        "print(s)"
      ],
      "metadata": {
        "colab": {
          "base_uri": "https://localhost:8080/"
        },
        "id": "I94yX1y3hMrM",
        "outputId": "d9f962a9-6e44-475d-d31d-bb322df8fa45"
      },
      "execution_count": 18,
      "outputs": [
        {
          "output_type": "stream",
          "name": "stdout",
          "text": [
            "{1, 2, 3}\n",
            "True\n",
            "{1, 3}\n"
          ]
        }
      ]
    },
    {
      "cell_type": "code",
      "source": [
        "s = set() # each element can appear at most once in a set\n",
        "s.add(5)\n",
        "s.add(5)\n",
        "s.add(5)\n",
        "\n",
        "print(s)"
      ],
      "metadata": {
        "colab": {
          "base_uri": "https://localhost:8080/"
        },
        "id": "KLwEG5BRk_Kf",
        "outputId": "35d38290-fb0b-49c9-ac75-f35b2e5611df"
      },
      "execution_count": 17,
      "outputs": [
        {
          "output_type": "stream",
          "name": "stdout",
          "text": [
            "{5}\n"
          ]
        }
      ]
    },
    {
      "cell_type": "code",
      "source": [
        "d = {}\n",
        "\n",
        "d[\"monkey\"] = 1\n",
        "d[\"banana\"] = 2\n",
        "d[\"harpsichord\"] = 3\n",
        "\n",
        "print(\"banana\" in d)\n",
        "\n",
        "print(d[\"banana\"])"
      ],
      "metadata": {
        "colab": {
          "base_uri": "https://localhost:8080/"
        },
        "id": "oz5CZOiClbG1",
        "outputId": "729ace08-b35b-4b64-9b1d-08c36dcd2e8c"
      },
      "execution_count": 19,
      "outputs": [
        {
          "output_type": "stream",
          "name": "stdout",
          "text": [
            "True\n",
            "2\n"
          ]
        }
      ]
    },
    {
      "cell_type": "code",
      "source": [
        "d = {} # there is no key \"monkey\" yet\n",
        "\n",
        "print(d[\"monkey\"]) # KeyError"
      ],
      "metadata": {
        "id": "pgqiMBjjm7t0"
      },
      "execution_count": null,
      "outputs": []
    },
    {
      "cell_type": "code",
      "source": [
        "from collections import defaultdict # has default values for missing keys\n",
        "\n",
        "d = defaultdict(int)\n",
        "\n",
        "print(d[\"monkey\"])\n",
        "\n",
        "d[\"monkey\"] += 1\n",
        "\n",
        "print(d[\"monkey\"])"
      ],
      "metadata": {
        "id": "s6IsNIXLnLyU"
      },
      "execution_count": null,
      "outputs": []
    },
    {
      "cell_type": "code",
      "source": [
        "# Only immutable values, such as numbers, strings and tuples, can be used as keys in Python sets and dictionaries.\n",
        "# Thus, list will not work because it is not immutable (不可改变的).\n",
        "\n",
        "s = set()\n",
        "s.add([1, 2, 3]) # TypeError"
      ],
      "metadata": {
        "id": "rLlGoBk_oJoh"
      },
      "execution_count": null,
      "outputs": []
    },
    {
      "cell_type": "markdown",
      "source": [
        "### 2.3 - Priority Queues"
      ],
      "metadata": {
        "id": "_2M-RdVXpMvj"
      }
    },
    {
      "cell_type": "code",
      "source": [
        "from heapq import heappush, heappop # heapq has functions to perform binary beap operations on a list (first element is the minimum element), making list as priority queues\n",
        "\n",
        "q = []\n",
        "\n",
        "heappush(q, 2) # adds an element to the heap (堆积)\n",
        "heappush(q, 1)\n",
        "heappush(q, 4)\n",
        "heappush(q, 3)\n",
        "\n",
        "print(q[0])\n",
        "\n",
        "heappop(q) # removes and returns the minimum elements\n",
        "\n",
        "print(q[0])\n",
        "\n",
        "# Both heappush and heappop work in O(log n) time."
      ],
      "metadata": {
        "colab": {
          "base_uri": "https://localhost:8080/"
        },
        "id": "LnBsYTKrpS5l",
        "outputId": "5582a30d-775f-4fbc-df48-c2833fdb0b9e"
      },
      "execution_count": 20,
      "outputs": [
        {
          "output_type": "stream",
          "name": "stdout",
          "text": [
            "1\n",
            "2\n"
          ]
        }
      ]
    },
    {
      "cell_type": "code",
      "source": [
        "from heapq import heapify\n",
        "\n",
        "q = [2, 1, 4, 3]\n",
        "\n",
        "heapify(q)\n",
        "\n",
        "print(q)\n",
        "\n",
        "# heapify used to convert a list to a heap in O(n) time."
      ],
      "metadata": {
        "colab": {
          "base_uri": "https://localhost:8080/"
        },
        "id": "gLu6aSS6rFVM",
        "outputId": "2eee4f8c-922a-4d6d-9d61-8c7771e4ba63"
      },
      "execution_count": 21,
      "outputs": [
        {
          "output_type": "stream",
          "name": "stdout",
          "text": [
            "[1, 2, 4, 3]\n"
          ]
        }
      ]
    },
    {
      "cell_type": "markdown",
      "source": [
        "# 3 - Coping Without Binary Search Trees"
      ],
      "metadata": {
        "id": "-1ZvflrJsSSe"
      }
    },
    {
      "cell_type": "markdown",
      "source": [
        "> Instead of binary search trees used in C++ to maintain a set to efficiently find minimum and maximum elements.\n",
        "\n",
        "> We can use the tools in Python standard library: sorting, hash structures and priority queues."
      ],
      "metadata": {
        "id": "zFF1NMSQszyQ"
      }
    },
    {
      "cell_type": "markdown",
      "source": [
        "### 3.1 - Minimum Queries"
      ],
      "metadata": {
        "id": "Afio3ibyt4dS"
      }
    },
    {
      "cell_type": "code",
      "source": [
        "# Data structure that has the following operations:\n",
        "\n",
        "# add an element to the set\n",
        "# remove an element from the set\n",
        "# find the minimum element in the set\n",
        "\n",
        "# Solution: using a set and a priority queue. Basically add to both, but remove only from the set because it is not possible to remove arbitrary elements from a priority queue.\n",
        "\n",
        "def add(x): # add to both\n",
        "\n",
        "    s.add(x) # set is for fast lookups and removals\n",
        "\n",
        "    heappush(q, x) # priority queue is used to quickly get the smallest number\n",
        "\n",
        "def remove(x): # remove only from set\n",
        "\n",
        "    s.remove(x)\n",
        "\n",
        "def find_min():\n",
        "\n",
        "    while q[0] not in s: # As we modified the set, check the first element (smallest) of our priority queue is still there in the set.\n",
        "\n",
        "        heappop(q) # If not in set, pop smallest, which act as removing it.\n",
        "\n",
        "        # Then the heap will reorder itself to restore the heap properties.\n",
        "\n",
        "    return q[0] # return the new smallest value in the set\n",
        "\n",
        "# Note: Priority queue is not fully sorted, but the smallest element is always at the root q[0]."
      ],
      "metadata": {
        "id": "Cr9IaHcrt3pa"
      },
      "execution_count": 22,
      "outputs": []
    },
    {
      "cell_type": "markdown",
      "source": [
        "### 3.2 - Example Problem"
      ],
      "metadata": {
        "id": "fk7BgGVL24dN"
      }
    },
    {
      "cell_type": "markdown",
      "source": [
        "### Question: Concert Tickets (Sorting and Searching)\n",
        "\n",
        "There are n concert tickets available, each with a certain price.\n",
        "\n",
        "Then, m customers arrive, one after another.\n",
        "\n",
        "> Each customer announces the maximum price they are willing to pay for a ticket, and after this, they will get a ticket with the nearest possible price such that it does not exceed the maximum price.\n",
        "\n",
        "**Input:**\n",
        "\n",
        "The first input line contains integers n and m: the number of tickets and the number of customers.\n",
        "\n",
        "The next line contains $n$ integers $h_1,h_2,\\ldots,h_n$ : the price of each ticket.\n",
        "\n",
        "The last line contains $m$ integers $t_1,t_2,\\ldots,t_m$ : the maximum price for each customer in the order they arrive.\n",
        "\n",
        "**Output:**\n",
        "\n",
        "Print, for each customer, the price that they will pay for their ticket. After this, the ticket cannot be purchased again.\n",
        "\n",
        "> If a customer cannot get any ticket, print -1.\n",
        "\n",
        "**Constraints:**\n",
        "\n",
        "- $1 \\le n, m \\le 2 \\cdot 10^5$\n",
        "- $1 \\le h_i, t_i \\le 10^9$\n",
        "\n",
        "### **Example**\n",
        "\n",
        "**Input:**\n",
        "\n",
        "5 3 <br>\n",
        "5 3 7 8 5 <br>\n",
        "4 8 3 <br>\n",
        "\n",
        "**Output:**\n",
        "\n",
        "3 <br>\n",
        "8 <br>\n",
        "-1 <br>"
      ],
      "metadata": {
        "id": "_M6AEkMGIhaM"
      }
    },
    {
      "cell_type": "code",
      "source": [
        "# Solution\n",
        "\n",
        "import sys\n",
        "from bisect import bisect\n",
        "\n",
        "sys.setrecursionlimit(200000)\n",
        "\n",
        "def get_endpoint(idx: int) -> int:\n",
        "    if idx == -1 or idx == endpoints[idx]:  # idx is the root\n",
        "        return idx\n",
        "    endpoints[idx] = get_endpoint(endpoints[idx])  # find the root of its parent\n",
        "    return endpoints[idx]\n",
        "\n",
        "# Manually take input (works in Google Colab)\n",
        "n, m = map(int, input().split())  # Read first line: n (tickets), m (customers)\n",
        "h = sorted(map(int, input().split()))  # Read second line: ticket prices\n",
        "t = list(map(int, input().split()))  # Read third line: customer max price\n",
        "\n",
        "# Initialize endpoints for union-find logic\n",
        "endpoints = list(range(n))\n",
        "\n",
        "results = []\n",
        "for i in t:\n",
        "    pos = get_endpoint(bisect(h, i) - 1)\n",
        "    if pos >= 0:\n",
        "        results.append(str(h[pos]))\n",
        "        endpoints[pos] = pos - 1\n",
        "    else:\n",
        "        results.append(\"-1\")\n",
        "\n",
        "# Print results\n",
        "print(\"\\nOutput:\\n\")\n",
        "print(\"\\n\".join(results))\n",
        "\n"
      ],
      "metadata": {
        "colab": {
          "base_uri": "https://localhost:8080/"
        },
        "id": "g2m3CuHCFPz7",
        "outputId": "7f52b098-d1bc-445a-fc25-f9391638a87f"
      },
      "execution_count": 33,
      "outputs": [
        {
          "output_type": "stream",
          "name": "stdout",
          "text": [
            "5 3\n",
            "5 3 7 8 5 \n",
            "4 8 3\n",
            "\n",
            "Output:\n",
            "\n",
            "3\n",
            "8\n",
            "-1\n"
          ]
        }
      ]
    },
    {
      "cell_type": "code",
      "source": [
        "# Success\n",
        "\n",
        "import sys\n",
        "from bisect import *\n",
        "\n",
        "sys.setrecursionlimit(200000)\n",
        "\n",
        "\n",
        "def get_endpoint(idx: int) -> int:\n",
        "\tif idx == -1 or idx == endpoints[idx]:  # idx is the root\n",
        "\t\treturn idx\n",
        "\tendpoints[idx] = get_endpoint(endpoints[idx])  # find the root of its parent\n",
        "\treturn endpoints[idx]\n",
        "\n",
        "\n",
        "n, m = map(int, input().split())\n",
        "h = sorted(int(i) for i in input().split())  # price of tickets\n",
        "t = [int(i) for i in input().split()]  # max price for each customer\n",
        "endpoints = list(range(n))\n",
        "for i in t:\n",
        "\tpos = get_endpoint(bisect(h, i) - 1)\n",
        "\tif pos >= 0:\n",
        "\t\tprint(h[pos])\n",
        "\t\tendpoints[pos] = pos - 1\n",
        "\telse:\n",
        "\t\tprint(-1)"
      ],
      "metadata": {
        "id": "pUKo1SQ1L-Zb"
      },
      "execution_count": null,
      "outputs": []
    },
    {
      "cell_type": "markdown",
      "source": [
        "# 4 - Recursive Functions"
      ],
      "metadata": {
        "id": "MTAXopkEFJ--"
      }
    },
    {
      "cell_type": "code",
      "source": [
        "# Factorial of n\n",
        "\n",
        "def factorial(n):\n",
        "    if n == 0:\n",
        "        return 1\n",
        "    return factorial(n - 1) * n\n",
        "\n",
        "print(factorial(0)) # function works fine for small numbers\n",
        "print(factorial(2))\n",
        "print(factorial(5))\n",
        "print(factorial(9))\n",
        "\n",
        "# print(factorial(1000)) # Recursion Error: cannot compute the factorial of 1000. Due to the maximum recursion depth in Python is quite small by default."
      ],
      "metadata": {
        "colab": {
          "base_uri": "https://localhost:8080/"
        },
        "id": "ahmyvLA3FhiN",
        "outputId": "0c0a76e2-09a1-42d8-c58b-92729457565f"
      },
      "execution_count": 3,
      "outputs": [
        {
          "output_type": "stream",
          "name": "stdout",
          "text": [
            "1\n",
            "2\n",
            "120\n",
            "362880\n"
          ]
        }
      ]
    },
    {
      "cell_type": "code",
      "source": [
        "import sys\n",
        "\n",
        "sys.setrecursionlimit(5000) # increase the limit by using the sys.setrecursionlimit function\n",
        "\n",
        "print(factorial(1000))"
      ],
      "metadata": {
        "colab": {
          "base_uri": "https://localhost:8080/"
        },
        "id": "gWRpp9GYHDKc",
        "outputId": "a7f0e3fe-0e39-42a4-8e32-ff580f068f18"
      },
      "execution_count": 4,
      "outputs": [
        {
          "output_type": "stream",
          "name": "stdout",
          "text": [
            "402387260077093773543702433923003985719374864210714632543799910429938512398629020592044208486969404800479988610197196058631666872994808558901323829669944590997424504087073759918823627727188732519779505950995276120874975462497043601418278094646496291056393887437886487337119181045825783647849977012476632889835955735432513185323958463075557409114262417474349347553428646576611667797396668820291207379143853719588249808126867838374559731746136085379534524221586593201928090878297308431392844403281231558611036976801357304216168747609675871348312025478589320767169132448426236131412508780208000261683151027341827977704784635868170164365024153691398281264810213092761244896359928705114964975419909342221566832572080821333186116811553615836546984046708975602900950537616475847728421889679646244945160765353408198901385442487984959953319101723355556602139450399736280750137837615307127761926849034352625200015888535147331611702103968175921510907788019393178114194545257223865541461062892187960223838971476088506276862967146674697562911234082439208160153780889893964518263243671616762179168909779911903754031274622289988005195444414282012187361745992642956581746628302955570299024324153181617210465832036786906117260158783520751516284225540265170483304226143974286933061690897968482590125458327168226458066526769958652682272807075781391858178889652208164348344825993266043367660176999612831860788386150279465955131156552036093988180612138558600301435694527224206344631797460594682573103790084024432438465657245014402821885252470935190620929023136493273497565513958720559654228749774011413346962715422845862377387538230483865688976461927383814900140767310446640259899490222221765904339901886018566526485061799702356193897017860040811889729918311021171229845901641921068884387121855646124960798722908519296819372388642614839657382291123125024186649353143970137428531926649875337218940694281434118520158014123344828015051399694290153483077644569099073152433278288269864602789864321139083506217095002597389863554277196742822248757586765752344220207573630569498825087968928162753848863396909959826280956121450994871701244516461260379029309120889086942028510640182154399457156805941872748998094254742173582401063677404595741785160829230135358081840096996372524230560855903700624271243416909004153690105933983835777939410970027753472000000000000000000000000000000000000000000000000000000000000000000000000000000000000000000000000000000000000000000000000000000000000000000000000000000000000000000000000000000000000000000000000000000000000000000000000000000000000000000000000000000000\n"
          ]
        }
      ]
    },
    {
      "cell_type": "markdown",
      "source": [
        "### 4.1 - Dynamic Programming"
      ],
      "metadata": {
        "id": "G2NixoY_Hj2K"
      }
    },
    {
      "cell_type": "code",
      "source": [
        "def catalan(n): # a recursive function that calculate Catalan numbers\n",
        "\n",
        "    if n == 0:\n",
        "        return 1\n",
        "\n",
        "    s = 0\n",
        "\n",
        "    for i in range(n):\n",
        "        s += catalan(i) * catalan(n - i - 1)\n",
        "\n",
        "    return s"
      ],
      "metadata": {
        "id": "vptOLH09H0RF"
      },
      "execution_count": 5,
      "outputs": []
    },
    {
      "cell_type": "code",
      "source": [
        "print(catalan(2)) # for small numbers the function works fine\n",
        "print(catalan(3))\n",
        "print(catalan(5))"
      ],
      "metadata": {
        "colab": {
          "base_uri": "https://localhost:8080/"
        },
        "id": "sVNFw_ZtIlgi",
        "outputId": "4822dcae-bfb2-41c2-904d-f509d46ccc13"
      },
      "execution_count": 6,
      "outputs": [
        {
          "output_type": "stream",
          "name": "stdout",
          "text": [
            "2\n",
            "5\n",
            "42\n"
          ]
        }
      ]
    },
    {
      "cell_type": "code",
      "source": [
        "print(catalan(100)) # too slow, because the number of recursive calls is too large"
      ],
      "metadata": {
        "id": "7KlFlXViJmiT"
      },
      "execution_count": null,
      "outputs": []
    },
    {
      "cell_type": "code",
      "source": [
        "# making the function efficient using dynamic programmming\n",
        "\n",
        "def catalan(n, d={}): # using a dictionary to store its return values and it makes recursive calls only once for each parameter, so the function is efficient\n",
        "\n",
        "    if n == 0:\n",
        "\n",
        "        return 1\n",
        "\n",
        "    if n not in d:\n",
        "\n",
        "        s = 0\n",
        "\n",
        "        for i in range(n):\n",
        "\n",
        "            s += catalan(i) * catalan(n - i - 1)\n",
        "\n",
        "        d[n] = s\n",
        "\n",
        "    return d[n]\n",
        "\n",
        "print(catalan(100)) # so fast"
      ],
      "metadata": {
        "colab": {
          "base_uri": "https://localhost:8080/"
        },
        "id": "HvaRAAQgJCTv",
        "outputId": "0dfcfee5-5244-48c6-9b90-36833526e987"
      },
      "execution_count": 8,
      "outputs": [
        {
          "output_type": "stream",
          "name": "stdout",
          "text": [
            "896519947090131496687170070074100632420837521538745909320\n"
          ]
        }
      ]
    },
    {
      "cell_type": "code",
      "source": [
        "def test(t=[]): # define parameter -> list\n",
        "    t.append(1)\n",
        "    print(t)\n",
        "\n",
        "test()\n",
        "test()\n",
        "test() # each function call adds an element to the same list"
      ],
      "metadata": {
        "colab": {
          "base_uri": "https://localhost:8080/"
        },
        "id": "v1A6nQRwKgdn",
        "outputId": "5a2edb7e-a31f-49ca-a07f-5a6f5fd76443"
      },
      "execution_count": 10,
      "outputs": [
        {
          "output_type": "stream",
          "name": "stdout",
          "text": [
            "[1]\n",
            "[1, 1]\n",
            "[1, 1, 1]\n"
          ]
        }
      ]
    },
    {
      "cell_type": "markdown",
      "source": [
        "### 4.2 - Cache Decorator | 缓存装饰"
      ],
      "metadata": {
        "id": "7B8XRU2lPG-W"
      }
    },
    {
      "cell_type": "code",
      "source": [
        "import functools\n",
        "\n",
        "@functools.cache # using the decorator, the function stores return values: s of different parameters: n automatically and the previous calculated value is returned if the function is called again with the same parameter.\n",
        "def catalan(n):\n",
        "\n",
        "    if n == 0:\n",
        "\n",
        "        return 1\n",
        "\n",
        "    s = 0\n",
        "\n",
        "    for i in range(n):\n",
        "\n",
        "        s += catalan(i) * catalan(n - i - 1)\n",
        "\n",
        "    return s"
      ],
      "metadata": {
        "id": "Pg4YJmQFPFay"
      },
      "execution_count": null,
      "outputs": []
    },
    {
      "cell_type": "markdown",
      "source": [
        "# 5 - Effiency"
      ],
      "metadata": {
        "id": "lBee54RZRRFi"
      }
    },
    {
      "cell_type": "markdown",
      "source": [
        "> CPython is the standard Python implementation which is the most common way to execute Python code.\n",
        "\n",
        "> PyPy is an alternative Pythin implementation which includes a just-in-time compiler and is often **faster**."
      ],
      "metadata": {
        "id": "hwv-NyMSRneQ"
      }
    },
    {
      "cell_type": "markdown",
      "source": [
        "### 5.1 - Finding Primes"
      ],
      "metadata": {
        "id": "5JyQkyYdSLJU"
      }
    },
    {
      "cell_type": "code",
      "source": [
        "# Count number of primes (have exactly two factors: 1 and itself) between 2 and n using the sieve of Eratosthenes.\n",
        "\n",
        "n = int(input(\"Number of Primes within: \"))  # Take input from user, defining the range [1, n]\n",
        "\n",
        "sieve = [0] * (n + 1)  # Create a list to mark composite numbers, initialized to 0 (prime assumption)\n",
        "count = 0  # Counter for prime numbers\n",
        "\n",
        "for i in range(2, n+1):  # Iterate from 2 to n\n",
        "\n",
        "    if sieve[i] == 1:  # If sieve[i] is marked (1), it means i is not prime\n",
        "\n",
        "        continue # skip everything below\n",
        "\n",
        "    count += 1  # If not marked (0), it's prime, so increase count\n",
        "\n",
        "    for j in range(2*i, n+1, i):  # Mark all multiples of i as composite (1) <- not prime\n",
        "\n",
        "        # The first multiple of i that is greater than i itself is 2*i.\n",
        "\n",
        "        # n+1 = stop at n\n",
        "\n",
        "        # i as step: Marks all multiples of i\n",
        "\n",
        "        sieve[j] = 1\n",
        "\n",
        "print(count)  # Print the total count of prime numbers\n",
        "\n",
        "# Explain (sieve):\n",
        "\n",
        "# Index:  0  1  2  3  4  5  6  7  8  9 10\n",
        "# sieve:  0  0  0  0  0  0  0  0  0  0  0  (All numbers are assumed to be prime at first)\n",
        "\n",
        "\n",
        "# Primes within 300:\n",
        "# 2, 3, 5, 7, 11, 13, 17, 19, 23, 29, 31, 37, 41, 43,\n",
        "# 47, 53, 59, 61, 67, 71, 73, 79, 83, 89, 97, 101, 103,\n",
        "# 107, 109, 113, 127, 131, 137, 139, 149, 151, 157,\n",
        "# 163, 167, 173, 179, 181, 191, 193, 197, 199, 211,\n",
        "# 223, 227, 229, 233, 239, 241, 251, 257, 263, 269,\n",
        "# 271, 277, 281, 283, 293.\n"
      ],
      "metadata": {
        "colab": {
          "base_uri": "https://localhost:8080/"
        },
        "id": "E_TFsw1KRKlO",
        "outputId": "c5510e63-4e65-439d-ff0a-d505afe83c4b"
      },
      "execution_count": 18,
      "outputs": [
        {
          "output_type": "stream",
          "name": "stdout",
          "text": [
            "Number of Primes within: 300\n",
            "62\n"
          ]
        }
      ]
    },
    {
      "cell_type": "markdown",
      "source": [
        "### 5.2 - Counting Permutaions | 排列"
      ],
      "metadata": {
        "id": "kvoRmLoseroL"
      }
    },
    {
      "cell_type": "code",
      "source": [
        "# Count the number of permutations of 1, 2, ..., n where there are no consecutive numbers whose difference is 1\n",
        "\n",
        "import itertools\n",
        "\n",
        "n = int(input(\"Input size: \"))  # size of the permutation set\n",
        "\n",
        "c = 0\n",
        "\n",
        "# Generating all possible permutations of numbers from 1 to n\n",
        "\n",
        "for p in itertools.permutations(range(1, n + 1)):\n",
        "\n",
        "    f = False  # Flag to check if any adjacent numbers differ by 1\n",
        "\n",
        "    for i in range(n - 1):  # Iterating through the permutation to check adjacent elements\n",
        "\n",
        "        if abs(p[i] - p[i + 1]) == 1:  # If adjacent numbers differ by 1\n",
        "\n",
        "            f = True  # Mark as invalid\n",
        "\n",
        "            break  # Exit the loop early since condition is met\n",
        "\n",
        "    if not f:  # If no adjacent numbers differ by 1, count this permutation\n",
        "        c += 1\n",
        "\n",
        "print(c)  # total count of valid permutations\n",
        "\n",
        "\n",
        "# when n = 4, there are two permutations (2, 4, 1, 3) and (3, 1, 4, 2)"
      ],
      "metadata": {
        "colab": {
          "base_uri": "https://localhost:8080/"
        },
        "id": "S-tufoF4ew60",
        "outputId": "746e4ff8-1a55-4d91-866b-f5626c30cff4"
      },
      "execution_count": 24,
      "outputs": [
        {
          "output_type": "stream",
          "name": "stdout",
          "text": [
            "Input size: 4\n",
            "2\n"
          ]
        }
      ]
    },
    {
      "cell_type": "markdown",
      "source": [
        "# 6 - Python as a Tool"
      ],
      "metadata": {
        "id": "b_318FpxhoRd"
      }
    },
    {
      "cell_type": "markdown",
      "source": [
        "> Instead of solving contest problems using Python, we can also use Python as a tool.\n",
        "\n",
        "> It can be more convenient to create test cases or testing solutions in Python than in C++."
      ],
      "metadata": {
        "id": "pFMDCjf7iEnV"
      }
    },
    {
      "cell_type": "markdown",
      "source": [
        "### 6.1 - Generating Tests"
      ],
      "metadata": {
        "id": "jqT2gY6Jiuhm"
      }
    },
    {
      "cell_type": "code",
      "source": [
        "# Assume that we want to generate a large random test input for a problem whose input consists of two lines:\n",
        "# the length of the list, and\n",
        "# the contents of the list.\n",
        "\n",
        "# Programme: generate.py\n",
        "\n",
        "import random\n",
        "\n",
        "n = int(input(\"Enter the number of elements: \")) # size of the list\n",
        "\n",
        "# Generate a list of n random integers between 1 and 100\n",
        "t = [str(random.randint(1, 100)) for _ in range(n)]\n",
        "\n",
        "\n",
        "print(n)\n",
        "print(\" \".join(t)) # output in the required format\n"
      ],
      "metadata": {
        "colab": {
          "base_uri": "https://localhost:8080/"
        },
        "id": "nQuQRbEYhsRX",
        "outputId": "e49b330e-5a5d-4562-bc18-47b9eced2d3b"
      },
      "execution_count": 27,
      "outputs": [
        {
          "output_type": "stream",
          "name": "stdout",
          "text": [
            "Enter the number of elements: 20\n",
            "20\n",
            "55 80 22 52 80 69 86 50 50 4 70 88 15 59 8 97 82 87 27 81\n"
          ]
        }
      ]
    },
    {
      "cell_type": "code",
      "source": [
        "# This is the command line version:\n",
        "\n",
        "import random\n",
        "import sys\n",
        "\n",
        "n = int(sys.argv[1]) # sys.argv contains the command line parameters given to the program\n",
        "\n",
        "t = [str(random.randint(1, 100)) for x in range(n)]\n",
        "\n",
        "print(n)\n",
        "print(\" \".joint(t))\n",
        "\n",
        "# In terminal:\n",
        "\n",
        "# python3 generate.py 10\n",
        "# OR python3 generate.py 1000 > input.txt\n"
      ],
      "metadata": {
        "id": "3ouDuLGplc7A"
      },
      "execution_count": null,
      "outputs": []
    },
    {
      "cell_type": "markdown",
      "source": [
        "### 6.2 - Stress Testing"
      ],
      "metadata": {
        "id": "W3txLvEmm5yb"
      }
    },
    {
      "cell_type": "markdown",
      "source": [
        "> Test if an implemented solution works correctly or to find a test input where is does not produce the correct result.\n",
        "\n",
        "> The idea is to create two additional programs:\n",
        "\n",
        "> - A brute force soltion that should work correctly, and\n",
        "> - A testing program that generates random inputs and checks that both the solutions gave the same answers for each test.\n",
        "\n",
        ">"
      ],
      "metadata": {
        "id": "kPrGH5-EnCHB"
      }
    },
    {
      "cell_type": "code",
      "source": [
        "# Assume that our solution binary files are:\n",
        "\n",
        "# 1) code (efficient solution)\n",
        "# 2) brute (brute force solution)\n",
        "\n",
        "# The inputs consists of two lines:\n",
        "\n",
        "# 1) the length of the list\n",
        "# 2) the contents of the list\n",
        "\n",
        "# Program: test.py\n",
        "\n",
        "import os\n",
        "import random\n",
        "\n",
        "c = 0\n",
        "\n",
        "while True:\n",
        "\n",
        "    c += 1\n",
        "\n",
        "    print(\"test\", c)\n",
        "\n",
        "    n = random.randint(1, 10)\n",
        "    t = [str(random.randint(1, 100)) for x in range(n)] # each iteration creates a random test case\n",
        "\n",
        "    f = open(\"input.txt\", \"w\")\n",
        "    f.write(str(n) + \"\\n\")\n",
        "    f.write(\" \".join(t) + \"\\n\") # write the test case to an input file\n",
        "    f.close()\n",
        "\n",
        "    os.system(\"./code < input.txt > output1.txt\") # run external program <- gives the input file to both the solutions\n",
        "    os.system(\"./brute < input.txt > output2.txt\")\n",
        "\n",
        "    o1 = open(\"output1.txt\").readline() # readline() -> reads the first line from a file\n",
        "    o2 = open(\"output2.txt\").readling() # if there are several lines: readlines() -> reads all the lines and returns them as a list\n",
        "\n",
        "    if o1 == o2: # Compare the results\n",
        "        print(\"ok\")\n",
        "    else:\n",
        "        print(\"fail\") # If the program finds a test case where the solutions produce different answer, the program stops\n",
        "        break # Go to check input file and find out why the answers are different, manually."
      ],
      "metadata": {
        "id": "wcGa1cZmm4iP"
      },
      "execution_count": null,
      "outputs": []
    },
    {
      "cell_type": "markdown",
      "source": [
        "### 6.3 - Finding Polynomials"
      ],
      "metadata": {
        "id": "AmhNAaWxGewC"
      }
    },
    {
      "cell_type": "code",
      "source": [
        "from fractions import Fraction  # Using Fraction to handle rational numbers precisely\n",
        "from math import factorial  # Importing factorial function\n",
        "\n",
        "def find(p):\n",
        "\n",
        "    \"\"\"\n",
        "    Function to determine the order of finite differences required to make\n",
        "    the sequence constant and to compute the leading coefficient of the polynomial.\n",
        "    \"\"\"\n",
        "\n",
        "    c = 0  # Counter for the number of differentiation steps\n",
        "\n",
        "    # Compute finite differences until all values are the same\n",
        "    while min(p) != max(p):\n",
        "\n",
        "        c += 1\n",
        "\n",
        "        p = [p[i + 1] - p[i] for i in range(len(p) - 1)]  # Compute differences\n",
        "\n",
        "    return c, p[0] / factorial(c)  # Return order of differences and coefficient\n",
        "\n",
        "p = [0, 0, 8, 44, 140, 340, 700, 1288] # Input sequence representing values of a polynomial at different points\n",
        "\n",
        "# Convert all values to Fraction for precise arithmetic\n",
        "\n",
        "p = [Fraction(x, 1) for x in p]\n",
        "\n",
        "while True:\n",
        "\n",
        "    k, a = find(p)  # Find the order `k` and coefficient `a`, iteratively extract polynomial terms\n",
        "\n",
        "    print(a, k)  # Print the coefficient and order\n",
        "\n",
        "    # Subtract the discovered term `a * (i+1)^k` from `p`\n",
        "\n",
        "    p = [p[i] - a * (i + 1) ** k for i in range(len(p))]\n",
        "\n",
        "    if k == 0:  # Stop when no more terms are left in the polynomial\n",
        "\n",
        "        break\n"
      ],
      "metadata": {
        "colab": {
          "base_uri": "https://localhost:8080/"
        },
        "id": "DVH8IK96Gn67",
        "outputId": "bf89f341-09a7-4b56-d45d-e6a22717c9b4"
      },
      "execution_count": 29,
      "outputs": [
        {
          "output_type": "stream",
          "name": "stdout",
          "text": [
            "1/2 4\n",
            "-5/3 3\n",
            "3/2 2\n",
            "-1/3 1\n",
            "0 0\n"
          ]
        }
      ]
    },
    {
      "cell_type": "markdown",
      "source": [
        "This means that the polynomial is:\n",
        "\n",
        "$$\\frac{1}{2}n^4 - \\frac{5}{3}n^3 + \\frac{3}{2}n^2 - \\frac{1}{3}n$$"
      ],
      "metadata": {
        "id": "dzPfJx2VH8gw"
      }
    }
  ]
}